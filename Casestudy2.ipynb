{
 "cells": [
  {
   "cell_type": "code",
   "execution_count": 8,
   "id": "743337c7",
   "metadata": {},
   "outputs": [
    {
     "name": "stdout",
     "output_type": "stream",
     "text": [
      "Enter number of a list separated by space 9 8 7\n",
      "\n",
      "\n",
      "list:  ['9', '8', '7']\n",
      "24\n"
     ]
    }
   ],
   "source": [
    "#Q1:Write a Python function to sum all the numbers in a list. (Create a list andget list elements from user)\n",
    "\n",
    "def findSumofNumbers():\n",
    "    input_string = input('Enter number of a list separated by space ')\n",
    "    print(\"\\n\")\n",
    "    user_list = input_string.split()\n",
    "# print list\n",
    "    print('list: ', user_list)\n",
    "    sum=0\n",
    "# convert each item to int type\n",
    "    for i in range(len(user_list)):\n",
    "    # convert each item to int type\n",
    "       sum=sum+int(user_list[i])\n",
    "    i+=1\n",
    "# Calculating the sum of list elements\n",
    "    return sum\n",
    "\n",
    "sum=findSumofNumbers()\n",
    "print(sum)"
   ]
  },
  {
   "cell_type": "code",
   "execution_count": 19,
   "id": "903c7de3",
   "metadata": {},
   "outputs": [
    {
     "name": "stdout",
     "output_type": "stream",
     "text": [
      "word is palindrome\n"
     ]
    }
   ],
   "source": [
    "#Q2:Write a Python function that checks whether a passed string is palindrom or not\n",
    "def findPalindrome(s):\n",
    "    \n",
    "        if len(s)<=1:\n",
    "            print(\"word is palindrome\")\n",
    "        else:\n",
    "            return s[0]==s[-1] and findPalindrome(s[1:-1])     \n",
    "         \n",
    "            \n",
    "findPalindrome('malayalam')    \n",
    "    \n"
   ]
  },
  {
   "cell_type": "code",
   "execution_count": 44,
   "id": "3bff3aea",
   "metadata": {},
   "outputs": [
    {
     "name": "stdout",
     "output_type": "stream",
     "text": [
      "Enter value of limit3\n",
      "2\n",
      "2\n",
      "2\n"
     ]
    }
   ],
   "source": [
    "#Q3:Write a Python recursive function to find the Fibonacci series. Get the limit from the user\n",
    "def recur_fibo(n):\n",
    "    if n<=1:\n",
    "        return n\n",
    "    else:\n",
    "        return(recur_fibo(n-1)+recur_fibo(n-2))\n",
    "n=int(input('Enter value of limit'))  \n",
    "for i in range(n):\n",
    "      print(recur_fibo(n))"
   ]
  },
  {
   "cell_type": "code",
   "execution_count": 6,
   "id": "5495990a",
   "metadata": {},
   "outputs": [
    {
     "name": "stdout",
     "output_type": "stream",
     "text": [
      "Enter the number : 3\n",
      "3 * 1 = 3\n",
      "3 * 2 = 6\n",
      "3 * 3 = 9\n",
      "3 * 4 = 12\n",
      "3 * 5 = 15\n",
      "3 * 6 = 18\n",
      "3 * 7 = 21\n",
      "3 * 8 = 24\n",
      "3 * 9 = 27\n",
      "3 * 10 = 30\n"
     ]
    }
   ],
   "source": [
    "#Q4:Write a Python recursive function to print the multiplication table of given number\n",
    "\n",
    "def mul_table(n,i):\n",
    "        if  i>10:\n",
    "            return\n",
    "        else:\n",
    "            print(n,'*',i,'=',n*i)\n",
    "            i=i+1\n",
    "            mul_table(n,i)\n",
    "        \n",
    "num=int(input('Enter the number : ')) \n",
    "mul_table(num,i=1)"
   ]
  },
  {
   "cell_type": "code",
   "execution_count": 33,
   "id": "3ab60699",
   "metadata": {},
   "outputs": [
    {
     "name": "stdout",
     "output_type": "stream",
     "text": [
      "enter a stringHai\n",
      "vowels count :2 consonants count :1\n"
     ]
    }
   ],
   "source": [
    "#Q5:Define a function which counts vowels and consonant in a word.\n",
    "\n",
    "\n",
    "def fnCount(s):\n",
    "    vowels=('a','e','i','o','u')\n",
    "    v=0\n",
    "    c=0\n",
    "    for i in range(len(s)):\n",
    "        if s[i] in vowels:\n",
    "            v=v+1\n",
    "            \n",
    "        else:\n",
    "            c=c+1\n",
    "            \n",
    "    print('vowels count :' +str(v),'consonants count :'+str(c))  \n",
    "\n",
    "word=input('enter a string')\n",
    "fnCount(word)\n",
    "            \n",
    "            \n",
    "\n"
   ]
  },
  {
   "cell_type": "code",
   "execution_count": 7,
   "id": "f86a9950",
   "metadata": {},
   "outputs": [
    {
     "name": "stdout",
     "output_type": "stream",
     "text": [
      "Enter the stringHello mitra\n",
      "HELLO MITRA\n"
     ]
    }
   ],
   "source": [
    "#Q6:Define a function that accepts lowercase words and returns uppercase words\n",
    "def toUpper(s):\n",
    "    S=s.upper()\n",
    "    print(S)\n",
    "string=input('Enter the string' )  \n",
    "toUpper(string)"
   ]
  },
  {
   "cell_type": "code",
   "execution_count": 13,
   "id": "ef68cdc8",
   "metadata": {},
   "outputs": [
    {
     "ename": "SyntaxError",
     "evalue": "invalid syntax (2734407457.py, line 6)",
     "output_type": "error",
     "traceback": [
      "\u001b[1;36m  Input \u001b[1;32mIn [13]\u001b[1;36m\u001b[0m\n\u001b[1;33m    print(final_list())\u001b[0m\n\u001b[1;37m    ^\u001b[0m\n\u001b[1;31mSyntaxError\u001b[0m\u001b[1;31m:\u001b[0m invalid syntax\n"
     ]
    }
   ],
   "source": [
    "#Q7:Write a Python program to remove ‘None’ values from a given list using the lambda function.\n",
    "#Given input = [12, 0, None, 23, None, -55, 234, 89, None, 0, 6, -12]\n",
    "#Expected output = [12, 0, 23, -55, 234, 89, 0, 6, -12]\n",
    "l=[12, 0, None, 23, None, -55, 234, 89, None, 0, 6, -12]\n",
    "final_list=list(filter(lambda x:x.replace('None',' '),l)\n",
    "print(final_list())  \n"
   ]
  },
  {
   "cell_type": "code",
   "execution_count": 38,
   "id": "0e88fcff",
   "metadata": {},
   "outputs": [
    {
     "name": "stdout",
     "output_type": "stream",
     "text": [
      "length = 20 width=  10 perimeter =  60 area = 200\n",
      "vol = 1000\n"
     ]
    }
   ],
   "source": [
    "#Q8 Write a Rectangle class in Python language, allowing you to build arectangle with length and width attributes\n",
    "\n",
    "#c. Create a Parallelepiped child class inheriting from the Rectangle\n",
    "#class and with a height attribute and another Volume() method to\n",
    "#calculate the volume of the Parallelepiped\n",
    "\n",
    "class Rectangle:\n",
    "    def __init__(self,l,b):\n",
    "        self.length=l\n",
    "        self.width=b\n",
    "    def periMetr(self):\n",
    "        self.perimeter=2*(self.length+self.width)\n",
    "        return (self.perimeter)\n",
    "    def aRea(self):\n",
    "        self.a= self.length* self.width\n",
    "        return self.a \n",
    "    def display(self):\n",
    "        print('length =',str(self.length),'width= ',str(self.width),'perimeter = ',str(self.perimeter),'area =',str(self.a))\n",
    "class Parallelepiped(Rectangle):\n",
    "    def __init__(self,h):\n",
    "        self.hgt=h\n",
    "    def volume(self):\n",
    "        vol=P1.a*self.hgt\n",
    "        print('vol =',vol)\n",
    "P1=Rectangle(20,10)\n",
    "P1.periMetr()\n",
    "P1.aRea()\n",
    "P1.display()\n",
    "P2=Parallelepiped(5)\n",
    "\n",
    "P2.volume()"
   ]
  },
  {
   "cell_type": "code",
   "execution_count": 40,
   "id": "13320e05",
   "metadata": {},
   "outputs": [
    {
     "name": "stdout",
     "output_type": "stream",
     "text": [
      "Acct no :  123344 Name : Dhanuja Balance : 843505.0\n"
     ]
    }
   ],
   "source": [
    "#Create a Python class called BankAccount which represents a bank account, having as attributes: accountNumber , name , balance.\n",
    "class BankAccount:\n",
    "    def __init__(self,acctno,name,balance):\n",
    "        self.acctno=acctno\n",
    "        self.name=name\n",
    "        self.balance=balance\n",
    "    def deposit(self,d):\n",
    "        self.balance=self.balance+d\n",
    "    def withdrawal(self,w):\n",
    "        if (self.balance<w):\n",
    "            print('Insifficient Balance')\n",
    "        else:\n",
    "            self.balance=self.balance-w\n",
    "    def bankfees(self):\n",
    "        self.balance=(95/100)*self.balance\n",
    "    def display(self):\n",
    "        print('Acct no : ',self.acctno,'Name :',self.name,'Balance :',self.balance)\n",
    "    \n",
    "my_acct=BankAccount(123344,'Dhanuja',889900)  \n",
    "my_acct.deposit(5000)\n",
    "my_acct.withdrawal(7000)\n",
    "my_acct.bankfees()\n",
    "my_acct.display()    "
   ]
  },
  {
   "cell_type": "code",
   "execution_count": null,
   "id": "d837c518",
   "metadata": {},
   "outputs": [],
   "source": []
  }
 ],
 "metadata": {
  "kernelspec": {
   "display_name": "Python 3 (ipykernel)",
   "language": "python",
   "name": "python3"
  },
  "language_info": {
   "codemirror_mode": {
    "name": "ipython",
    "version": 3
   },
   "file_extension": ".py",
   "mimetype": "text/x-python",
   "name": "python",
   "nbconvert_exporter": "python",
   "pygments_lexer": "ipython3",
   "version": "3.9.12"
  }
 },
 "nbformat": 4,
 "nbformat_minor": 5
}
